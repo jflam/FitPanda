{
 "cells": [
  {
   "cell_type": "markdown",
   "metadata": {},
   "source": [
    "# Experiments with Python, Cython, Pandas and more!\n",
    "I'm writing this notebook to take notes on my Python adventures"
   ]
  },
  {
   "cell_type": "code",
   "execution_count": 41,
   "metadata": {
    "collapsed": true
   },
   "outputs": [],
   "source": [
    "import numpy as np\n",
    "import pandas as pd\n",
    "\n",
    "# Open a binary file for reading\n",
    "filename = \"C:\\\\Users\\\\jflam\\\\OneDrive\\\\Garmin\\\\2010-03-21-20-31-06.fit\"\n",
    "import io\n",
    "stream = io.open(filename, \"rb\")"
   ]
  },
  {
   "cell_type": "code",
   "execution_count": 38,
   "metadata": {
    "collapsed": false
   },
   "outputs": [
    {
     "name": "stdout",
     "output_type": "stream",
     "text": [
      "<_io.BufferedReader name='C:\\\\Users\\\\jflam\\\\OneDrive\\\\Garmin\\\\2010-03-21-20-31-06.fit'>\n"
     ]
    }
   ],
   "source": [
    "# Note that this is a BufferedReader object\n",
    "print(stream)"
   ]
  },
  {
   "cell_type": "code",
   "execution_count": 43,
   "metadata": {
    "collapsed": false
   },
   "outputs": [
    {
     "name": "stdout",
     "output_type": "stream",
     "text": [
      "1004\n"
     ]
    }
   ],
   "source": [
    "# Compute length of a file\n",
    "import os\n",
    "print(os.path.getsize(filename))"
   ]
  },
  {
   "cell_type": "code",
   "execution_count": 30,
   "metadata": {
    "collapsed": false
   },
   "outputs": [
    {
     "name": "stdout",
     "output_type": "stream",
     "text": [
      "(15940693183265609850,)\n",
      "15940693183265609850\n",
      "dd38b7fe2609987a\n"
     ]
    }
   ],
   "source": [
    "# Work with the data\n",
    "import struct\n",
    "\n",
    "buffer = stream.read(8)\n",
    "value = struct.unpack('Q', buffer) # this is little-endian for big endian use >Q\n",
    "print(value)\n",
    "print(value[0])\n",
    "print(format(value[0],'08x'))"
   ]
  },
  {
   "cell_type": "code",
   "execution_count": 35,
   "metadata": {
    "collapsed": false
   },
   "outputs": [
    {
     "name": "stdout",
     "output_type": "stream",
     "text": [
      "3de0039000c\n"
     ]
    }
   ],
   "source": [
    "# This is a more convenient way of unpacking data, thanks to SO 17537071\n",
    "\n",
    "def unpack(stream, fmt):\n",
    "    size = struct.calcsize(fmt)\n",
    "    buf = stream.read(size)\n",
    "    return struct.unpack(fmt, buf)\n",
    "\n",
    "# The above now reduces to:\n",
    "\n",
    "print(format(unpack(stream, 'Q')[0], \"08x\"))"
   ]
  },
  {
   "cell_type": "code",
   "execution_count": 48,
   "metadata": {
    "collapsed": false
   },
   "outputs": [
    {
     "ename": "FileNotFoundError",
     "evalue": "[Errno 2] No such file or directory: 'large_file.fit'",
     "output_type": "error",
     "traceback": [
      "\u001b[1;31m---------------------------------------------------------------------------\u001b[0m",
      "\u001b[1;31mFileNotFoundError\u001b[0m                         Traceback (most recent call last)",
      "\u001b[1;32m<ipython-input-48-23c92bf3feed>\u001b[0m in \u001b[0;36m<module>\u001b[1;34m()\u001b[0m\n\u001b[0;32m      6\u001b[0m \u001b[1;32mfrom\u001b[0m \u001b[0mfit_parser_dataframe\u001b[0m \u001b[1;32mimport\u001b[0m \u001b[0mparse_fit_as_dataframe\u001b[0m\u001b[1;33m\u001b[0m\u001b[0m\n\u001b[0;32m      7\u001b[0m \u001b[1;33m\u001b[0m\u001b[0m\n\u001b[1;32m----> 8\u001b[1;33m \u001b[0mdf\u001b[0m \u001b[1;33m=\u001b[0m \u001b[0mparse_fit_as_dataframe\u001b[0m\u001b[1;33m(\u001b[0m\u001b[1;34m'large_file.fit'\u001b[0m\u001b[1;33m,\u001b[0m \u001b[1;33m[\u001b[0m\u001b[0mRecordDecl\u001b[0m\u001b[1;33m.\u001b[0m\u001b[0mtime_stamp\u001b[0m\u001b[1;33m,\u001b[0m \u001b[0mRecordDecl\u001b[0m\u001b[1;33m.\u001b[0m\u001b[0mpower\u001b[0m\u001b[1;33m,\u001b[0m \u001b[0mRecordDecl\u001b[0m\u001b[1;33m.\u001b[0m\u001b[0mheart_rate\u001b[0m\u001b[1;33m]\u001b[0m\u001b[1;33m)\u001b[0m\u001b[1;33m\u001b[0m\u001b[0m\n\u001b[0m",
      "\u001b[1;32mc:/users/jflam/src/FitPanda\\fit_parser_dataframe.py\u001b[0m in \u001b[0;36mparse_fit_as_dataframe\u001b[1;34m(path, columns)\u001b[0m\n\u001b[0;32m     35\u001b[0m         \u001b[0mdata\u001b[0m\u001b[1;33m[\u001b[0m\u001b[0mcolumn\u001b[0m\u001b[1;33m.\u001b[0m\u001b[0mname\u001b[0m\u001b[1;33m]\u001b[0m \u001b[1;33m=\u001b[0m \u001b[1;33m[\u001b[0m\u001b[1;33m]\u001b[0m\u001b[1;33m\u001b[0m\u001b[0m\n\u001b[0;32m     36\u001b[0m \u001b[1;33m\u001b[0m\u001b[0m\n\u001b[1;32m---> 37\u001b[1;33m     \u001b[1;32mfor\u001b[0m \u001b[0mmessage\u001b[0m \u001b[1;32min\u001b[0m \u001b[0mparse_fit_file\u001b[0m\u001b[1;33m(\u001b[0m\u001b[0mpath\u001b[0m\u001b[1;33m,\u001b[0m \u001b[0mvalidate_crc\u001b[0m \u001b[1;33m=\u001b[0m \u001b[1;32mFalse\u001b[0m\u001b[1;33m)\u001b[0m\u001b[1;33m:\u001b[0m\u001b[1;33m\u001b[0m\u001b[0m\n\u001b[0m\u001b[0;32m     38\u001b[0m         \u001b[1;32mif\u001b[0m \u001b[0mmessage\u001b[0m\u001b[1;33m.\u001b[0m\u001b[0mmessage_definition\u001b[0m\u001b[1;33m.\u001b[0m\u001b[0mglobal_message_number\u001b[0m \u001b[1;33m==\u001b[0m \u001b[0mGlobalMessageDecl\u001b[0m\u001b[1;33m.\u001b[0m\u001b[0mrecord\u001b[0m\u001b[1;33m:\u001b[0m\u001b[1;33m\u001b[0m\u001b[0m\n\u001b[0;32m     39\u001b[0m             \u001b[1;32mfor\u001b[0m \u001b[0mcolumn\u001b[0m \u001b[1;32min\u001b[0m \u001b[0mcolumns\u001b[0m\u001b[1;33m:\u001b[0m\u001b[1;33m\u001b[0m\u001b[0m\n",
      "\u001b[1;32mc:/users/jflam/src/FitPanda\\fit_parser.py\u001b[0m in \u001b[0;36mparse_fit_file\u001b[1;34m(path, validate_crc)\u001b[0m\n\u001b[0;32m    417\u001b[0m     \"\"\"\n\u001b[0;32m    418\u001b[0m \u001b[1;33m\u001b[0m\u001b[0m\n\u001b[1;32m--> 419\u001b[1;33m     \u001b[0mstream\u001b[0m \u001b[1;33m=\u001b[0m \u001b[0mio\u001b[0m\u001b[1;33m.\u001b[0m\u001b[0mopen\u001b[0m\u001b[1;33m(\u001b[0m\u001b[0mpath\u001b[0m\u001b[1;33m,\u001b[0m \u001b[1;34m\"rb\"\u001b[0m\u001b[1;33m)\u001b[0m\u001b[1;33m\u001b[0m\u001b[0m\n\u001b[0m\u001b[0;32m    420\u001b[0m     \u001b[0mfile_header\u001b[0m \u001b[1;33m=\u001b[0m \u001b[0mFileHeader\u001b[0m\u001b[1;33m(\u001b[0m\u001b[0mstream\u001b[0m\u001b[1;33m)\u001b[0m\u001b[1;33m\u001b[0m\u001b[0m\n\u001b[0;32m    421\u001b[0m \u001b[1;33m\u001b[0m\u001b[0m\n",
      "\u001b[1;31mFileNotFoundError\u001b[0m: [Errno 2] No such file or directory: 'large_file.fit'"
     ]
    }
   ],
   "source": [
    "# Experiments with loading modules\n",
    "import sys\n",
    "sys.path.append(\"c:/users/jflam/src/FitPanda/\")\n",
    "\n",
    "from fit_parser import RecordDecl\n",
    "from fit_parser_dataframe import parse_fit_as_dataframe\n",
    "\n",
    "df = parse_fit_as_dataframe('c:/users/jflam/src/large_file.fit', [RecordDecl.time_stamp, RecordDecl.power, RecordDecl.heart_rate])\n"
   ]
  }
 ],
 "metadata": {
  "kernelspec": {
   "display_name": "Python 3",
   "language": "python",
   "name": "python3"
  },
  "language_info": {
   "codemirror_mode": {
    "name": "ipython",
    "version": 3
   },
   "file_extension": ".py",
   "mimetype": "text/x-python",
   "name": "python",
   "nbconvert_exporter": "python",
   "pygments_lexer": "ipython3",
   "version": "3.5.0"
  }
 },
 "nbformat": 4,
 "nbformat_minor": 0
}
