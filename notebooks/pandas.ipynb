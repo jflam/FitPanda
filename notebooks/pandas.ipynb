{
 "cells": [
  {
   "cell_type": "markdown",
   "metadata": {},
   "source": [
    "# Experiments with Python, Cython, Pandas and more!\n",
    "I'm writing this notebook to take notes on my Python adventures"
   ]
  },
  {
   "cell_type": "code",
   "execution_count": 41,
   "metadata": {
    "collapsed": true
   },
   "outputs": [],
   "source": [
    "import numpy as np\n",
    "import pandas as pd\n",
    "\n",
    "# Open a binary file for reading\n",
    "filename = \"C:\\\\Users\\\\jflam\\\\OneDrive\\\\Garmin\\\\2010-03-21-20-31-06.fit\"\n",
    "import io\n",
    "stream = io.open(filename, \"rb\")"
   ]
  },
  {
   "cell_type": "code",
   "execution_count": 38,
   "metadata": {
    "collapsed": false
   },
   "outputs": [
    {
     "name": "stdout",
     "output_type": "stream",
     "text": [
      "<_io.BufferedReader name='C:\\\\Users\\\\jflam\\\\OneDrive\\\\Garmin\\\\2010-03-21-20-31-06.fit'>\n"
     ]
    }
   ],
   "source": [
    "# Note that this is a BufferedReader object\n",
    "print(stream)"
   ]
  },
  {
   "cell_type": "code",
   "execution_count": 43,
   "metadata": {
    "collapsed": false
   },
   "outputs": [
    {
     "name": "stdout",
     "output_type": "stream",
     "text": [
      "1004\n"
     ]
    }
   ],
   "source": [
    "# Compute length of a file\n",
    "import os\n",
    "print(os.path.getsize(filename))"
   ]
  },
  {
   "cell_type": "code",
   "execution_count": 30,
   "metadata": {
    "collapsed": false
   },
   "outputs": [
    {
     "name": "stdout",
     "output_type": "stream",
     "text": [
      "(15940693183265609850,)\n",
      "15940693183265609850\n",
      "dd38b7fe2609987a\n"
     ]
    }
   ],
   "source": [
    "# Work with the data\n",
    "import struct\n",
    "\n",
    "buffer = stream.read(8)\n",
    "value = struct.unpack('Q', buffer) # this is little-endian for big endian use >Q\n",
    "print(value)\n",
    "print(value[0])\n",
    "print(format(value[0],'08x'))"
   ]
  },
  {
   "cell_type": "code",
   "execution_count": 35,
   "metadata": {
    "collapsed": false
   },
   "outputs": [
    {
     "name": "stdout",
     "output_type": "stream",
     "text": [
      "3de0039000c\n"
     ]
    }
   ],
   "source": [
    "# This is a more convenient way of unpacking data, thanks to SO 17537071\n",
    "\n",
    "def unpack(stream, fmt):\n",
    "    size = struct.calcsize(fmt)\n",
    "    buf = stream.read(size)\n",
    "    return struct.unpack(fmt, buf)\n",
    "\n",
    "# The above now reduces to:\n",
    "\n",
    "print(format(unpack(stream, 'Q')[0], \"08x\"))"
   ]
  }
 ],
 "metadata": {
  "kernelspec": {
   "display_name": "Python 3",
   "language": "python",
   "name": "python3"
  },
  "language_info": {
   "codemirror_mode": {
    "name": "ipython",
    "version": 3
   },
   "file_extension": ".py",
   "mimetype": "text/x-python",
   "name": "python",
   "nbconvert_exporter": "python",
   "pygments_lexer": "ipython3",
   "version": "3.5.0"
  }
 },
 "nbformat": 4,
 "nbformat_minor": 0
}
